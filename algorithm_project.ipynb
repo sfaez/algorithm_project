{
  "nbformat": 4,
  "nbformat_minor": 0,
  "metadata": {
    "kernelspec": {
      "display_name": "Python 3",
      "language": "python",
      "name": "python3"
    },
    "language_info": {
      "codemirror_mode": {
        "name": "ipython",
        "version": 3
      },
      "file_extension": ".py",
      "mimetype": "text/x-python",
      "name": "python",
      "nbconvert_exporter": "python",
      "pygments_lexer": "ipython3",
      "version": "3.7.3"
    },
    "colab": {
      "name": "algorithm_project.ipynb",
      "provenance": [],
      "collapsed_sections": []
    }
  },
  "cells": [
    {
      "cell_type": "markdown",
      "metadata": {
        "id": "wn--oVgbLMoE",
        "colab_type": "text"
      },
      "source": [
        "# make index\n"
      ]
    },
    {
      "cell_type": "markdown",
      "metadata": {
        "id": "CQ2kNbbkLTno",
        "colab_type": "text"
      },
      "source": [
        "##install jelly fish\n"
      ]
    },
    {
      "cell_type": "code",
      "metadata": {
        "id": "svr-Bh_bK7Ke",
        "colab_type": "code",
        "colab": {}
      },
      "source": [
        "import pandas as pd\n",
        "import numpy as np"
      ],
      "execution_count": 0,
      "outputs": []
    },
    {
      "cell_type": "code",
      "metadata": {
        "colab_type": "code",
        "outputId": "71ac44c1-3192-4903-b71d-f12a29baa294",
        "id": "Hqko48CZKtPh",
        "colab": {
          "base_uri": "https://localhost:8080/",
          "height": 54
        }
      },
      "source": [
        "from google.colab import drive\n",
        "drive.mount('/content/gdrive')"
      ],
      "execution_count": 0,
      "outputs": [
        {
          "output_type": "stream",
          "text": [
            "Drive already mounted at /content/gdrive; to attempt to forcibly remount, call drive.mount(\"/content/gdrive\", force_remount=True).\n"
          ],
          "name": "stdout"
        }
      ]
    },
    {
      "cell_type": "code",
      "metadata": {
        "colab_type": "code",
        "outputId": "11de4ff9-b2a4-4b6f-cf42-287bc2bcf108",
        "id": "lsvucj4YKtPe",
        "colab": {
          "base_uri": "https://localhost:8080/",
          "height": 34
        }
      },
      "source": [
        "%cd gdrive/My\\ Drive/algorithm_project"
      ],
      "execution_count": 0,
      "outputs": [
        {
          "output_type": "stream",
          "text": [
            "/content/gdrive/My Drive/algorithm_project\n"
          ],
          "name": "stdout"
        }
      ]
    },
    {
      "cell_type": "code",
      "metadata": {
        "colab_type": "code",
        "outputId": "2f3e7c96-d9dc-4102-9a85-ee72aab13ddd",
        "id": "i3RtZ6TEKtPc",
        "colab": {
          "base_uri": "https://localhost:8080/",
          "height": 289
        }
      },
      "source": [
        "!wget https://github.com/gmarcais/Jellyfish/archive/master.zip"
      ],
      "execution_count": 0,
      "outputs": [
        {
          "output_type": "stream",
          "text": [
            "--2020-02-05 14:43:06--  https://github.com/gmarcais/Jellyfish/archive/master.zip\n",
            "Resolving github.com (github.com)... 192.30.255.112\n",
            "Connecting to github.com (github.com)|192.30.255.112|:443... connected.\n",
            "HTTP request sent, awaiting response... 302 Found\n",
            "Location: https://codeload.github.com/gmarcais/Jellyfish/zip/master [following]\n",
            "--2020-02-05 14:43:06--  https://codeload.github.com/gmarcais/Jellyfish/zip/master\n",
            "Resolving codeload.github.com (codeload.github.com)... 140.82.113.10\n",
            "Connecting to codeload.github.com (codeload.github.com)|140.82.113.10|:443... connected.\n",
            "HTTP request sent, awaiting response... 200 OK\n",
            "Length: unspecified [application/zip]\n",
            "Saving to: ‘master.zip’\n",
            "\n",
            "master.zip              [  <=>               ] 773.15K  2.21MB/s    in 0.3s    \n",
            "\n",
            "2020-02-05 14:43:07 (2.21 MB/s) - ‘master.zip’ saved [791704]\n",
            "\n"
          ],
          "name": "stdout"
        }
      ]
    },
    {
      "cell_type": "code",
      "metadata": {
        "colab_type": "code",
        "outputId": "47a33b31-066a-48d0-f3b0-5b6fa73ca34d",
        "id": "4xkzw8z6KtPZ",
        "colab": {
          "base_uri": "https://localhost:8080/",
          "height": 1000
        }
      },
      "source": [
        "!unzip master.zip"
      ],
      "execution_count": 0,
      "outputs": [
        {
          "output_type": "stream",
          "text": [
            "Archive:  master.zip\n",
            "ab0f0f2ac8996ad397db89c9baf8b6c80a4c652a\n",
            "   creating: Jellyfish-master/\n",
            "  inflating: Jellyfish-master/.gitignore  \n",
            " extracting: Jellyfish-master/.gitmod  \n",
            "  inflating: Jellyfish-master/.travis.yml  \n",
            "  inflating: Jellyfish-master/CHANGES  \n",
            "  inflating: Jellyfish-master/HalfLICENSE  \n",
            "  inflating: Jellyfish-master/LICENSE  \n",
            "  inflating: Jellyfish-master/LICENSE-BSD-3-Clause  \n",
            "  inflating: Jellyfish-master/LICENSE-GPL-3.0  \n",
            "  inflating: Jellyfish-master/Makefile.am  \n",
            "  inflating: Jellyfish-master/README  \n",
            "  inflating: Jellyfish-master/README.md  \n",
            "  inflating: Jellyfish-master/compat.sh.in  \n",
            "  inflating: Jellyfish-master/config.rpath  \n",
            "  inflating: Jellyfish-master/configure.ac  \n",
            "  inflating: Jellyfish-master/development.mk  \n",
            "   creating: Jellyfish-master/doc/\n",
            "  inflating: Jellyfish-master/doc/Makefile  \n",
            "  inflating: Jellyfish-master/doc/Readme.md  \n",
            "  inflating: Jellyfish-master/doc/UserGuide.lyx  \n",
            "  inflating: Jellyfish-master/doc/generate_options_tex.sh  \n",
            "  inflating: Jellyfish-master/doc/help_parse.rb  \n",
            "  inflating: Jellyfish-master/doc/help_parse.treetop  \n",
            "  inflating: Jellyfish-master/doc/jellyfish.html  \n",
            "  inflating: Jellyfish-master/doc/jellyfish.man  \n",
            "  inflating: Jellyfish-master/doc/jellyfish.pdf  \n",
            "  inflating: Jellyfish-master/doc/jellyfish.tex  \n",
            "  inflating: Jellyfish-master/doc/option_to_tex  \n",
            "  inflating: Jellyfish-master/doc/options.tex  \n",
            "  inflating: Jellyfish-master/doc/transfile  \n",
            "   creating: Jellyfish-master/examples/\n",
            "  inflating: Jellyfish-master/examples/README  \n",
            "   creating: Jellyfish-master/examples/count_in_file/\n",
            "  inflating: Jellyfish-master/examples/count_in_file/Makefile  \n",
            "  inflating: Jellyfish-master/examples/count_in_file/README  \n",
            "  inflating: Jellyfish-master/examples/count_in_file/count_in_file.cc  \n",
            "   creating: Jellyfish-master/examples/jf_count_dump/\n",
            "  inflating: Jellyfish-master/examples/jf_count_dump/Makefile  \n",
            "  inflating: Jellyfish-master/examples/jf_count_dump/README  \n",
            "  inflating: Jellyfish-master/examples/jf_count_dump/jf_count_dump.cc  \n",
            "   creating: Jellyfish-master/examples/query_per_sequence/\n",
            "  inflating: Jellyfish-master/examples/query_per_sequence/Makefile  \n",
            "  inflating: Jellyfish-master/examples/query_per_sequence/README  \n",
            "  inflating: Jellyfish-master/examples/query_per_sequence/query_per_sequence.cc  \n",
            "  inflating: Jellyfish-master/examples/query_per_sequence/sequence_mers.hpp  \n",
            "   creating: Jellyfish-master/examples/swig/\n",
            "  inflating: Jellyfish-master/examples/swig/README.md  \n",
            "  inflating: Jellyfish-master/examples/swig/dump.pl  \n",
            "  inflating: Jellyfish-master/examples/swig/dump.py  \n",
            "  inflating: Jellyfish-master/examples/swig/dump.rb  \n",
            "  inflating: Jellyfish-master/examples/swig/query.pl  \n",
            "  inflating: Jellyfish-master/examples/swig/query.py  \n",
            "  inflating: Jellyfish-master/examples/swig/query.rb  \n",
            "  inflating: Jellyfish-master/gtest.mk  \n",
            "  inflating: Jellyfish-master/header-license  \n",
            "   creating: Jellyfish-master/include/\n",
            "   creating: Jellyfish-master/include/jellyfish/\n",
            "  inflating: Jellyfish-master/include/jellyfish/allocators_mmap.hpp  \n",
            "  inflating: Jellyfish-master/include/jellyfish/atomic_bits_array.hpp  \n",
            "  inflating: Jellyfish-master/include/jellyfish/atomic_field.hpp  \n",
            "  inflating: Jellyfish-master/include/jellyfish/atomic_gcc.hpp  \n",
            "  inflating: Jellyfish-master/include/jellyfish/backtrace.hpp  \n",
            "  inflating: Jellyfish-master/include/jellyfish/binary_dumper.hpp  \n",
            "  inflating: Jellyfish-master/include/jellyfish/bloom_common.hpp  \n",
            "  inflating: Jellyfish-master/include/jellyfish/bloom_counter2.hpp  \n",
            "  inflating: Jellyfish-master/include/jellyfish/bloom_filter.hpp  \n",
            "  inflating: Jellyfish-master/include/jellyfish/circular_buffer.hpp  \n",
            "  inflating: Jellyfish-master/include/jellyfish/compare_and_swap.hpp  \n",
            "  inflating: Jellyfish-master/include/jellyfish/cooperative_pool.hpp  \n",
            "  inflating: Jellyfish-master/include/jellyfish/cooperative_pool2.hpp  \n",
            "  inflating: Jellyfish-master/include/jellyfish/cpp_array.hpp  \n",
            "  inflating: Jellyfish-master/include/jellyfish/divisor.hpp  \n",
            "  inflating: Jellyfish-master/include/jellyfish/dumper.hpp  \n",
            "  inflating: Jellyfish-master/include/jellyfish/err.hpp  \n",
            "  inflating: Jellyfish-master/include/jellyfish/file_header.hpp  \n",
            "  inflating: Jellyfish-master/include/jellyfish/generator_manager.hpp  \n",
            "  inflating: Jellyfish-master/include/jellyfish/generic_file_header.hpp  \n",
            "  inflating: Jellyfish-master/include/jellyfish/hash_counter.hpp  \n",
            "  inflating: Jellyfish-master/include/jellyfish/int128.hpp  \n",
            "  inflating: Jellyfish-master/include/jellyfish/jellyfish.hpp  \n",
            "  inflating: Jellyfish-master/include/jellyfish/json.h  \n",
            "  inflating: Jellyfish-master/include/jellyfish/large_hash_array.hpp  \n",
            "  inflating: Jellyfish-master/include/jellyfish/large_hash_iterator.hpp  \n",
            "  inflating: Jellyfish-master/include/jellyfish/locks_pthread.hpp  \n",
            "  inflating: Jellyfish-master/include/jellyfish/mapped_file.hpp  \n",
            "  inflating: Jellyfish-master/include/jellyfish/mer_dna.hpp  \n",
            "  inflating: Jellyfish-master/include/jellyfish/mer_dna_bloom_counter.hpp  \n",
            "  inflating: Jellyfish-master/include/jellyfish/mer_heap.hpp  \n",
            "  inflating: Jellyfish-master/include/jellyfish/mer_iterator.hpp  \n",
            "  inflating: Jellyfish-master/include/jellyfish/mer_overlap_sequence_parser.hpp  \n",
            "  inflating: Jellyfish-master/include/jellyfish/mer_qual_iterator.hpp  \n",
            "  inflating: Jellyfish-master/include/jellyfish/misc.hpp  \n",
            "  inflating: Jellyfish-master/include/jellyfish/offsets_key_value.hpp  \n",
            "  inflating: Jellyfish-master/include/jellyfish/parser_common.hpp  \n",
            "  inflating: Jellyfish-master/include/jellyfish/rectangular_binary_matrix.hpp  \n",
            "  inflating: Jellyfish-master/include/jellyfish/sam_format.hpp  \n",
            "  inflating: Jellyfish-master/include/jellyfish/simple_circular_buffer.hpp  \n",
            "  inflating: Jellyfish-master/include/jellyfish/sorted_dumper.hpp  \n",
            "  inflating: Jellyfish-master/include/jellyfish/stdio_filebuf.hpp  \n",
            "  inflating: Jellyfish-master/include/jellyfish/storage.hpp  \n",
            "  inflating: Jellyfish-master/include/jellyfish/stream_iterator.hpp  \n",
            "  inflating: Jellyfish-master/include/jellyfish/stream_manager.hpp  \n",
            "  inflating: Jellyfish-master/include/jellyfish/text_dumper.hpp  \n",
            "  inflating: Jellyfish-master/include/jellyfish/thread_exec.hpp  \n",
            "  inflating: Jellyfish-master/include/jellyfish/time.hpp  \n",
            "  inflating: Jellyfish-master/include/jellyfish/token_ring.hpp  \n",
            "  inflating: Jellyfish-master/include/jellyfish/whole_sequence_parser.hpp  \n",
            "  inflating: Jellyfish-master/jellyfish-2.0.pc.in  \n",
            "  inflating: Jellyfish-master/jellyfish.spec.in  \n",
            "   creating: Jellyfish-master/jellyfish/\n",
            "  inflating: Jellyfish-master/jellyfish/backtrace.cc  \n",
            "  inflating: Jellyfish-master/jellyfish/dbg.cc  \n",
            "  inflating: Jellyfish-master/jellyfish/dbg.hpp  \n",
            "  inflating: Jellyfish-master/jellyfish/fastq2sam.cc  \n",
            "  inflating: Jellyfish-master/jellyfish/fastq2sam_cmdline.yaggo  \n",
            "  inflating: Jellyfish-master/jellyfish/fstream_default.hpp  \n",
            "  inflating: Jellyfish-master/jellyfish/generate_sequence.cc  \n",
            "  inflating: Jellyfish-master/jellyfish/generate_sequence_cmdline.yaggo  \n",
            "  inflating: Jellyfish-master/jellyfish/merge_files.cc  \n",
            "  inflating: Jellyfish-master/jellyfish/merge_files.hpp  \n",
            "  inflating: Jellyfish-master/jellyfish/mersenne.cpp  \n",
            "  inflating: Jellyfish-master/jellyfish/randomc.h  \n",
            "   creating: Jellyfish-master/lib/\n",
            "  inflating: Jellyfish-master/lib/allocators_mmap.cc  \n",
            "  inflating: Jellyfish-master/lib/err.cc  \n",
            "  inflating: Jellyfish-master/lib/generator_manager.cc  \n",
            "  inflating: Jellyfish-master/lib/int128.cc  \n",
            "  inflating: Jellyfish-master/lib/jsoncpp.cpp  \n",
            "  inflating: Jellyfish-master/lib/mer_dna.cc  \n",
            "  inflating: Jellyfish-master/lib/misc.cc  \n",
            "  inflating: Jellyfish-master/lib/rectangular_binary_matrix.cc  \n",
            "  inflating: Jellyfish-master/lib/storage.cc  \n",
            "  inflating: Jellyfish-master/lib/thread_exec.cc  \n",
            "  inflating: Jellyfish-master/lib/time.cc  \n",
            "  inflating: Jellyfish-master/local.mk  \n",
            "   creating: Jellyfish-master/m4/\n",
            "  inflating: Jellyfish-master/m4/.gitignore  \n",
            "  inflating: Jellyfish-master/m4/m4-ax_check_compile_flag.m4  \n",
            "  inflating: Jellyfish-master/m4/m4-ax_ext.m4  \n",
            "  inflating: Jellyfish-master/m4/m4-ax_gcc_x86_avx_xgetbv.m4  \n",
            "  inflating: Jellyfish-master/m4/m4-ax_gcc_x86_cpuid.m4  \n",
            "  inflating: Jellyfish-master/m4/m4-ax_perl_ext.m4  \n",
            "  inflating: Jellyfish-master/m4/m4-ax_pkg_swig.m4  \n",
            "  inflating: Jellyfish-master/m4/m4-ax_python_devel.m4  \n",
            "  inflating: Jellyfish-master/m4/m4-ax_ruby_ext.m4  \n",
            "  inflating: Jellyfish-master/m4/m4-ax_swig_enable_cxx.m4  \n",
            "  inflating: Jellyfish-master/m4/m4-ax_swig_python.m4  \n",
            "   creating: Jellyfish-master/sub_commands/\n",
            "  inflating: Jellyfish-master/sub_commands/bc_main.cc  \n",
            "  inflating: Jellyfish-master/sub_commands/bc_main_cmdline.yaggo  \n",
            "  inflating: Jellyfish-master/sub_commands/cite_main.cc  \n",
            "  inflating: Jellyfish-master/sub_commands/cite_main_cmdline.yaggo  \n",
            "  inflating: Jellyfish-master/sub_commands/count_main.cc  \n",
            "  inflating: Jellyfish-master/sub_commands/count_main_cmdline.yaggo  \n",
            "  inflating: Jellyfish-master/sub_commands/dump_main.cc  \n",
            "  inflating: Jellyfish-master/sub_commands/dump_main_cmdline.yaggo  \n",
            "  inflating: Jellyfish-master/sub_commands/histo_main.cc  \n",
            "  inflating: Jellyfish-master/sub_commands/histo_main_cmdline.yaggo  \n",
            "  inflating: Jellyfish-master/sub_commands/info_main.cc  \n",
            "  inflating: Jellyfish-master/sub_commands/info_main_cmdline.yaggo  \n",
            "  inflating: Jellyfish-master/sub_commands/jellyfish.cc  \n",
            "  inflating: Jellyfish-master/sub_commands/mem_main.cc  \n",
            "  inflating: Jellyfish-master/sub_commands/mem_main_cmdline.yaggo  \n",
            "  inflating: Jellyfish-master/sub_commands/merge_main.cc  \n",
            "  inflating: Jellyfish-master/sub_commands/merge_main_cmdline.yaggo  \n",
            "  inflating: Jellyfish-master/sub_commands/query_main.cc  \n",
            "  inflating: Jellyfish-master/sub_commands/query_main_cmdline.yaggo  \n",
            "  inflating: Jellyfish-master/sub_commands/stats_main.cc  \n",
            "  inflating: Jellyfish-master/sub_commands/stats_main_cmdline.yaggo  \n",
            "   creating: Jellyfish-master/swig/\n",
            "  inflating: Jellyfish-master/swig/Makefile.am  \n",
            "  inflating: Jellyfish-master/swig/Readme.md  \n",
            "  inflating: Jellyfish-master/swig/Tuprules.tup  \n",
            "  inflating: Jellyfish-master/swig/hash_counter.i  \n",
            "  inflating: Jellyfish-master/swig/hash_set.i  \n",
            "  inflating: Jellyfish-master/swig/jellyfish.i  \n",
            "  inflating: Jellyfish-master/swig/mer_dna.i  \n",
            "  inflating: Jellyfish-master/swig/mer_file.i  \n",
            "   creating: Jellyfish-master/swig/perl5/\n",
            "  inflating: Jellyfish-master/swig/perl5/Makefile.PL  \n",
            "   creating: Jellyfish-master/swig/perl5/t/\n",
            "  inflating: Jellyfish-master/swig/perl5/t/test_hash_counter.t  \n",
            "  inflating: Jellyfish-master/swig/perl5/t/test_mer_file.t  \n",
            "  inflating: Jellyfish-master/swig/perl5/t/test_string_mers.t  \n",
            "   creating: Jellyfish-master/swig/python/\n",
            "  inflating: Jellyfish-master/swig/python/jellyfish.py  \n",
            "  inflating: Jellyfish-master/swig/python/setup.py  \n",
            "  inflating: Jellyfish-master/swig/python/test_hash_counter.py  \n",
            "  inflating: Jellyfish-master/swig/python/test_mer_file.py  \n",
            "  inflating: Jellyfish-master/swig/python/test_string_mers.py  \n",
            "   creating: Jellyfish-master/swig/ruby/\n",
            "  inflating: Jellyfish-master/swig/ruby/extconf.rb  \n",
            "  inflating: Jellyfish-master/swig/ruby/test_hash_counter.rb  \n",
            "  inflating: Jellyfish-master/swig/ruby/test_mer_file.rb  \n",
            "  inflating: Jellyfish-master/swig/ruby/test_string_mers.rb  \n",
            "  inflating: Jellyfish-master/swig/string_mers.i  \n",
            "   creating: Jellyfish-master/tests/\n",
            "  inflating: Jellyfish-master/tests/big.sh  \n",
            "  inflating: Jellyfish-master/tests/bloom_counter.sh  \n",
            "  inflating: Jellyfish-master/tests/bloom_filter.sh  \n",
            "  inflating: Jellyfish-master/tests/from_stream.sh  \n",
            "  inflating: Jellyfish-master/tests/from_stream_fastq.sh  \n",
            "  inflating: Jellyfish-master/tests/generate_fastq_sequence.sh  \n",
            "  inflating: Jellyfish-master/tests/generate_sequence.sh  \n",
            "  inflating: Jellyfish-master/tests/large_key.sh  \n",
            "  inflating: Jellyfish-master/tests/merge.sh  \n",
            "  inflating: Jellyfish-master/tests/min_qual.sh  \n",
            "  inflating: Jellyfish-master/tests/multi_file.sh  \n",
            "  inflating: Jellyfish-master/tests/multi_file_fastq.sh  \n",
            "  inflating: Jellyfish-master/tests/parallel_direct_indexing.sh  \n",
            "  inflating: Jellyfish-master/tests/parallel_fastq_direct_indexing.sh  \n",
            "  inflating: Jellyfish-master/tests/parallel_fastq_hashing.sh  \n",
            "  inflating: Jellyfish-master/tests/parallel_fastq_sequence_hashing.sh  \n",
            "  inflating: Jellyfish-master/tests/parallel_hashing.sh  \n",
            "  inflating: Jellyfish-master/tests/parsers.sh  \n",
            "  inflating: Jellyfish-master/tests/quality_filter.sh  \n",
            "  inflating: Jellyfish-master/tests/raw_hash.sh  \n",
            "  inflating: Jellyfish-master/tests/sam.sh  \n",
            "  inflating: Jellyfish-master/tests/serial_direct_indexing.sh  \n",
            "  inflating: Jellyfish-master/tests/serial_hashing.sh  \n",
            "  inflating: Jellyfish-master/tests/small.sh  \n",
            "  inflating: Jellyfish-master/tests/small_mers.sh  \n",
            "  inflating: Jellyfish-master/tests/subset_hashing.sh  \n",
            "  inflating: Jellyfish-master/tests/swig_perl.sh  \n",
            "  inflating: Jellyfish-master/tests/swig_python.sh  \n",
            "  inflating: Jellyfish-master/tests/swig_ruby.sh  \n",
            "   creating: Jellyfish-master/unit_tests/\n",
            "  inflating: Jellyfish-master/unit_tests/Makefile  \n",
            "   creating: Jellyfish-master/unit_tests/gtest/\n",
            "  inflating: Jellyfish-master/unit_tests/gtest/gtest.h  \n",
            "   creating: Jellyfish-master/unit_tests/gtest/src/\n",
            "  inflating: Jellyfish-master/unit_tests/gtest/src/gtest-all.cc  \n",
            "  inflating: Jellyfish-master/unit_tests/gtest/src/gtest_main.cc  \n",
            "  inflating: Jellyfish-master/unit_tests/test_allocators_mmap.cc  \n",
            "  inflating: Jellyfish-master/unit_tests/test_atomic_bits_array.cc  \n",
            "  inflating: Jellyfish-master/unit_tests/test_cond.cc  \n",
            "  inflating: Jellyfish-master/unit_tests/test_cooperative_pool2.cc  \n",
            "  inflating: Jellyfish-master/unit_tests/test_dumpers.cc  \n",
            "  inflating: Jellyfish-master/unit_tests/test_file_header.cc  \n",
            "  inflating: Jellyfish-master/unit_tests/test_generator_manager.cc  \n",
            "  inflating: Jellyfish-master/unit_tests/test_hash_counter.cc  \n",
            "  inflating: Jellyfish-master/unit_tests/test_int128.cc  \n",
            "  inflating: Jellyfish-master/unit_tests/test_large_block.cc  \n",
            "  inflating: Jellyfish-master/unit_tests/test_large_hash_array.cc  \n",
            "  inflating: Jellyfish-master/unit_tests/test_main.cc  \n",
            "  inflating: Jellyfish-master/unit_tests/test_main.hpp  \n",
            "  inflating: Jellyfish-master/unit_tests/test_main_cmdline.yaggo  \n",
            "  inflating: Jellyfish-master/unit_tests/test_mapped_file.cc  \n",
            "  inflating: Jellyfish-master/unit_tests/test_mer_dna.cc  \n",
            "  inflating: Jellyfish-master/unit_tests/test_mer_dna_bloom_counter.cc  \n",
            "  inflating: Jellyfish-master/unit_tests/test_mer_heap.cc  \n",
            "  inflating: Jellyfish-master/unit_tests/test_mer_iterator.cc  \n",
            "  inflating: Jellyfish-master/unit_tests/test_mer_overlap_sequence_parser.cc  \n",
            "  inflating: Jellyfish-master/unit_tests/test_misc.cc  \n",
            "  inflating: Jellyfish-master/unit_tests/test_mutex.cc  \n",
            "  inflating: Jellyfish-master/unit_tests/test_offsets_key_value.cc  \n",
            "  inflating: Jellyfish-master/unit_tests/test_packed_key_value_array.cc  \n",
            "  inflating: Jellyfish-master/unit_tests/test_rectangular_binary_matrix.cc  \n",
            "  inflating: Jellyfish-master/unit_tests/test_simple_circular_buffer.cc  \n",
            "  inflating: Jellyfish-master/unit_tests/test_square_binary_matrix.cc  \n",
            "  inflating: Jellyfish-master/unit_tests/test_stdio_filebuf.cc  \n",
            "  inflating: Jellyfish-master/unit_tests/test_stream_iterator.cc  \n",
            "  inflating: Jellyfish-master/unit_tests/test_text_dumper.cc  \n",
            "  inflating: Jellyfish-master/unit_tests/test_token_ring.cc  \n",
            "  inflating: Jellyfish-master/unit_tests/test_whole_sequence_parser.cc  \n",
            "  inflating: Jellyfish-master/unit_tests/unit_tests.sh  \n"
          ],
          "name": "stdout"
        }
      ]
    },
    {
      "cell_type": "code",
      "metadata": {
        "colab_type": "code",
        "outputId": "7318fdb9-18ec-4520-c49f-7da3b1e7e951",
        "id": "oULbbQXgKtPV",
        "colab": {
          "base_uri": "https://localhost:8080/",
          "height": 34
        }
      },
      "source": [
        "%cd Jellyfish-master"
      ],
      "execution_count": 0,
      "outputs": [
        {
          "output_type": "stream",
          "text": [
            "/content/gdrive/My Drive/algorithm_project/Jellyfish-master\n"
          ],
          "name": "stdout"
        }
      ]
    },
    {
      "cell_type": "code",
      "metadata": {
        "colab_type": "code",
        "outputId": "957365e5-4fb4-40d1-bb57-07f1947abed3",
        "id": "ikZ61OnXKtPS",
        "colab": {
          "base_uri": "https://localhost:8080/",
          "height": 816
        }
      },
      "source": [
        "!apt-get install autoconf"
      ],
      "execution_count": 0,
      "outputs": [
        {
          "output_type": "stream",
          "text": [
            "Reading package lists... Done\n",
            "Building dependency tree       \n",
            "Reading state information... Done\n",
            "The following package was automatically installed and is no longer required:\n",
            "  libnvidia-common-430\n",
            "Use 'apt autoremove' to remove it.\n",
            "The following additional packages will be installed:\n",
            "  automake autotools-dev libsigsegv2 m4\n",
            "Suggested packages:\n",
            "  autoconf-archive gnu-standards autoconf-doc libtool gettext m4-doc\n",
            "The following NEW packages will be installed:\n",
            "  autoconf automake autotools-dev libsigsegv2 m4\n",
            "0 upgraded, 5 newly installed, 0 to remove and 16 not upgraded.\n",
            "Need to get 1,082 kB of archives.\n",
            "After this operation, 3,994 kB of additional disk space will be used.\n",
            "Get:1 http://archive.ubuntu.com/ubuntu bionic/main amd64 libsigsegv2 amd64 2.12-1 [14.7 kB]\n",
            "Get:2 http://archive.ubuntu.com/ubuntu bionic/main amd64 m4 amd64 1.4.18-1 [197 kB]\n",
            "Get:3 http://archive.ubuntu.com/ubuntu bionic/main amd64 autoconf all 2.69-11 [322 kB]\n",
            "Get:4 http://archive.ubuntu.com/ubuntu bionic/main amd64 autotools-dev all 20180224.1 [39.6 kB]\n",
            "Get:5 http://archive.ubuntu.com/ubuntu bionic/main amd64 automake all 1:1.15.1-3ubuntu2 [509 kB]\n",
            "Fetched 1,082 kB in 1s (734 kB/s)\n",
            "Selecting previously unselected package libsigsegv2:amd64.\n",
            "(Reading database ... 134485 files and directories currently installed.)\n",
            "Preparing to unpack .../libsigsegv2_2.12-1_amd64.deb ...\n",
            "Unpacking libsigsegv2:amd64 (2.12-1) ...\n",
            "Selecting previously unselected package m4.\n",
            "Preparing to unpack .../archives/m4_1.4.18-1_amd64.deb ...\n",
            "Unpacking m4 (1.4.18-1) ...\n",
            "Selecting previously unselected package autoconf.\n",
            "Preparing to unpack .../autoconf_2.69-11_all.deb ...\n",
            "Unpacking autoconf (2.69-11) ...\n",
            "Selecting previously unselected package autotools-dev.\n",
            "Preparing to unpack .../autotools-dev_20180224.1_all.deb ...\n",
            "Unpacking autotools-dev (20180224.1) ...\n",
            "Selecting previously unselected package automake.\n",
            "Preparing to unpack .../automake_1%3a1.15.1-3ubuntu2_all.deb ...\n",
            "Unpacking automake (1:1.15.1-3ubuntu2) ...\n",
            "Setting up libsigsegv2:amd64 (2.12-1) ...\n",
            "Setting up m4 (1.4.18-1) ...\n",
            "Setting up autotools-dev (20180224.1) ...\n",
            "Setting up autoconf (2.69-11) ...\n",
            "Setting up automake (1:1.15.1-3ubuntu2) ...\n",
            "update-alternatives: using /usr/bin/automake-1.15 to provide /usr/bin/automake (automake) in auto mode\n",
            "Processing triggers for libc-bin (2.27-3ubuntu1) ...\n",
            "/sbin/ldconfig.real: /usr/local/lib/python3.6/dist-packages/ideep4py/lib/libmkldnn.so.0 is not a symbolic link\n",
            "\n",
            "Processing triggers for man-db (2.8.3-2ubuntu0.1) ...\n"
          ],
          "name": "stdout"
        }
      ]
    },
    {
      "cell_type": "code",
      "metadata": {
        "colab_type": "code",
        "outputId": "6189c380-554f-4e09-a812-1c00f2291ea1",
        "id": "5iiLlMA0KtPP",
        "colab": {
          "base_uri": "https://localhost:8080/",
          "height": 170
        }
      },
      "source": [
        "!apt-get install automake"
      ],
      "execution_count": 0,
      "outputs": [
        {
          "output_type": "stream",
          "text": [
            "Reading package lists... Done\n",
            "Building dependency tree       \n",
            "Reading state information... Done\n",
            "automake is already the newest version (1:1.15.1-3ubuntu2).\n",
            "automake set to manually installed.\n",
            "The following package was automatically installed and is no longer required:\n",
            "  libnvidia-common-430\n",
            "Use 'apt autoremove' to remove it.\n",
            "0 upgraded, 0 newly installed, 0 to remove and 16 not upgraded.\n"
          ],
          "name": "stdout"
        }
      ]
    },
    {
      "cell_type": "code",
      "metadata": {
        "colab_type": "code",
        "outputId": "0db11e9d-1e97-42bb-9b88-98836118e969",
        "id": "wuUNjx4RKtPL",
        "colab": {
          "base_uri": "https://localhost:8080/",
          "height": 714
        }
      },
      "source": [
        "!apt-get install libtool"
      ],
      "execution_count": 0,
      "outputs": [
        {
          "output_type": "stream",
          "text": [
            "Reading package lists... Done\n",
            "Building dependency tree       \n",
            "Reading state information... Done\n",
            "The following package was automatically installed and is no longer required:\n",
            "  libnvidia-common-430\n",
            "Use 'apt autoremove' to remove it.\n",
            "The following additional packages will be installed:\n",
            "  file libmagic-mgc libmagic1\n",
            "Suggested packages:\n",
            "  libtool-doc gcj-jdk\n",
            "The following NEW packages will be installed:\n",
            "  file libmagic-mgc libmagic1 libtool\n",
            "0 upgraded, 4 newly installed, 0 to remove and 16 not upgraded.\n",
            "Need to get 469 kB of archives.\n",
            "After this operation, 6,552 kB of additional disk space will be used.\n",
            "Get:1 http://archive.ubuntu.com/ubuntu bionic-updates/main amd64 libmagic-mgc amd64 1:5.32-2ubuntu0.3 [184 kB]\n",
            "Get:2 http://archive.ubuntu.com/ubuntu bionic-updates/main amd64 libmagic1 amd64 1:5.32-2ubuntu0.3 [68.7 kB]\n",
            "Get:3 http://archive.ubuntu.com/ubuntu bionic-updates/main amd64 file amd64 1:5.32-2ubuntu0.3 [22.1 kB]\n",
            "Get:4 http://archive.ubuntu.com/ubuntu bionic/main amd64 libtool all 2.4.6-2 [194 kB]\n",
            "Fetched 469 kB in 1s (370 kB/s)\n",
            "Selecting previously unselected package libmagic-mgc.\n",
            "(Reading database ... 134770 files and directories currently installed.)\n",
            "Preparing to unpack .../libmagic-mgc_1%3a5.32-2ubuntu0.3_amd64.deb ...\n",
            "Unpacking libmagic-mgc (1:5.32-2ubuntu0.3) ...\n",
            "Selecting previously unselected package libmagic1:amd64.\n",
            "Preparing to unpack .../libmagic1_1%3a5.32-2ubuntu0.3_amd64.deb ...\n",
            "Unpacking libmagic1:amd64 (1:5.32-2ubuntu0.3) ...\n",
            "Selecting previously unselected package file.\n",
            "Preparing to unpack .../file_1%3a5.32-2ubuntu0.3_amd64.deb ...\n",
            "Unpacking file (1:5.32-2ubuntu0.3) ...\n",
            "Selecting previously unselected package libtool.\n",
            "Preparing to unpack .../libtool_2.4.6-2_all.deb ...\n",
            "Unpacking libtool (2.4.6-2) ...\n",
            "Setting up libmagic-mgc (1:5.32-2ubuntu0.3) ...\n",
            "Setting up libmagic1:amd64 (1:5.32-2ubuntu0.3) ...\n",
            "Setting up file (1:5.32-2ubuntu0.3) ...\n",
            "Setting up libtool (2.4.6-2) ...\n",
            "Processing triggers for man-db (2.8.3-2ubuntu0.1) ...\n",
            "Processing triggers for libc-bin (2.27-3ubuntu1) ...\n",
            "/sbin/ldconfig.real: /usr/local/lib/python3.6/dist-packages/ideep4py/lib/libmkldnn.so.0 is not a symbolic link\n",
            "\n"
          ],
          "name": "stdout"
        }
      ]
    },
    {
      "cell_type": "code",
      "metadata": {
        "colab_type": "code",
        "outputId": "06e5b070-d4e6-4454-8fef-4af82d35a686",
        "id": "KMAHhAZuKtPJ",
        "colab": {
          "base_uri": "https://localhost:8080/",
          "height": 544
        }
      },
      "source": [
        " !apt-get install gettext"
      ],
      "execution_count": 0,
      "outputs": [
        {
          "output_type": "stream",
          "text": [
            "Reading package lists... Done\n",
            "Building dependency tree       \n",
            "Reading state information... Done\n",
            "The following package was automatically installed and is no longer required:\n",
            "  libnvidia-common-430\n",
            "Use 'apt autoremove' to remove it.\n",
            "The following additional packages will be installed:\n",
            "  gettext-base\n",
            "Suggested packages:\n",
            "  gettext-doc autopoint libasprintf-dev libgettextpo-dev\n",
            "The following NEW packages will be installed:\n",
            "  gettext gettext-base\n",
            "0 upgraded, 2 newly installed, 0 to remove and 16 not upgraded.\n",
            "Need to get 1,406 kB of archives.\n",
            "After this operation, 7,365 kB of additional disk space will be used.\n",
            "Get:1 http://archive.ubuntu.com/ubuntu bionic-updates/main amd64 gettext-base amd64 0.19.8.1-6ubuntu0.3 [113 kB]\n",
            "Get:2 http://archive.ubuntu.com/ubuntu bionic-updates/main amd64 gettext amd64 0.19.8.1-6ubuntu0.3 [1,293 kB]\n",
            "Fetched 1,406 kB in 1s (1,007 kB/s)\n",
            "Selecting previously unselected package gettext-base.\n",
            "(Reading database ... 134827 files and directories currently installed.)\n",
            "Preparing to unpack .../gettext-base_0.19.8.1-6ubuntu0.3_amd64.deb ...\n",
            "Unpacking gettext-base (0.19.8.1-6ubuntu0.3) ...\n",
            "Selecting previously unselected package gettext.\n",
            "Preparing to unpack .../gettext_0.19.8.1-6ubuntu0.3_amd64.deb ...\n",
            "Unpacking gettext (0.19.8.1-6ubuntu0.3) ...\n",
            "Setting up gettext-base (0.19.8.1-6ubuntu0.3) ...\n",
            "Setting up gettext (0.19.8.1-6ubuntu0.3) ...\n",
            "Processing triggers for man-db (2.8.3-2ubuntu0.1) ...\n",
            "Processing triggers for libc-bin (2.27-3ubuntu1) ...\n",
            "/sbin/ldconfig.real: /usr/local/lib/python3.6/dist-packages/ideep4py/lib/libmkldnn.so.0 is not a symbolic link\n",
            "\n"
          ],
          "name": "stdout"
        }
      ]
    },
    {
      "cell_type": "code",
      "metadata": {
        "colab_type": "code",
        "outputId": "c11d737c-e7b5-4dcc-c4a1-c979df98df08",
        "id": "X4CLMzrWKtPE",
        "colab": {
          "base_uri": "https://localhost:8080/",
          "height": 153
        }
      },
      "source": [
        " !apt-get install pkg-config"
      ],
      "execution_count": 0,
      "outputs": [
        {
          "output_type": "stream",
          "text": [
            "Reading package lists... Done\n",
            "Building dependency tree       \n",
            "Reading state information... Done\n",
            "pkg-config is already the newest version (0.29.1-0ubuntu2).\n",
            "The following package was automatically installed and is no longer required:\n",
            "  libnvidia-common-430\n",
            "Use 'apt autoremove' to remove it.\n",
            "0 upgraded, 0 newly installed, 0 to remove and 16 not upgraded.\n"
          ],
          "name": "stdout"
        }
      ]
    },
    {
      "cell_type": "code",
      "metadata": {
        "colab_type": "code",
        "outputId": "1cbf3cea-8060-4d4e-8608-c55a9135e64c",
        "id": "_c-doN3bKtPB",
        "colab": {
          "base_uri": "https://localhost:8080/",
          "height": 1000
        }
      },
      "source": [
        "!sudo apt install ruby-full"
      ],
      "execution_count": 0,
      "outputs": [
        {
          "output_type": "stream",
          "text": [
            "Reading package lists... Done\n",
            "Building dependency tree       \n",
            "Reading state information... Done\n",
            "The following package was automatically installed and is no longer required:\n",
            "  libnvidia-common-430\n",
            "Use 'sudo apt autoremove' to remove it.\n",
            "The following additional packages will be installed:\n",
            "  fonts-lato libgmp-dev libgmpxx4ldbl libruby2.5 rake ri ruby ruby-dev\n",
            "  ruby-did-you-mean ruby-minitest ruby-net-telnet ruby-power-assert\n",
            "  ruby-test-unit ruby2.5 ruby2.5-dev ruby2.5-doc rubygems-integration\n",
            "Suggested packages:\n",
            "  gmp-doc libgmp10-doc libmpfr-dev bundler\n",
            "The following NEW packages will be installed:\n",
            "  fonts-lato libgmp-dev libgmpxx4ldbl libruby2.5 rake ri ruby ruby-dev\n",
            "  ruby-did-you-mean ruby-full ruby-minitest ruby-net-telnet ruby-power-assert\n",
            "  ruby-test-unit ruby2.5 ruby2.5-dev ruby2.5-doc rubygems-integration\n",
            "0 upgraded, 18 newly installed, 0 to remove and 16 not upgraded.\n",
            "Need to get 8,208 kB of archives.\n",
            "After this operation, 47.5 MB of additional disk space will be used.\n",
            "Get:1 http://archive.ubuntu.com/ubuntu bionic/main amd64 fonts-lato all 2.0-2 [2,698 kB]\n",
            "Get:2 http://archive.ubuntu.com/ubuntu bionic/main amd64 libgmpxx4ldbl amd64 2:6.1.2+dfsg-2 [8,964 B]\n",
            "Get:3 http://archive.ubuntu.com/ubuntu bionic/main amd64 libgmp-dev amd64 2:6.1.2+dfsg-2 [316 kB]\n",
            "Get:4 http://archive.ubuntu.com/ubuntu bionic/main amd64 rubygems-integration all 1.11 [4,994 B]\n",
            "Get:5 http://archive.ubuntu.com/ubuntu bionic-updates/main amd64 ruby2.5 amd64 2.5.1-1ubuntu1.6 [48.6 kB]\n",
            "Get:6 http://archive.ubuntu.com/ubuntu bionic/main amd64 ruby amd64 1:2.5.1 [5,712 B]\n",
            "Get:7 http://archive.ubuntu.com/ubuntu bionic/main amd64 rake all 12.3.1-1 [45.1 kB]\n",
            "Get:8 http://archive.ubuntu.com/ubuntu bionic/main amd64 ruby-did-you-mean all 1.2.0-2 [9,700 B]\n",
            "Get:9 http://archive.ubuntu.com/ubuntu bionic/main amd64 ruby-minitest all 5.10.3-1 [38.6 kB]\n",
            "Get:10 http://archive.ubuntu.com/ubuntu bionic/main amd64 ruby-net-telnet all 0.1.1-2 [12.6 kB]\n",
            "Get:11 http://archive.ubuntu.com/ubuntu bionic/main amd64 ruby-power-assert all 0.3.0-1 [7,952 B]\n",
            "Get:12 http://archive.ubuntu.com/ubuntu bionic/main amd64 ruby-test-unit all 3.2.5-1 [61.1 kB]\n",
            "Get:13 http://archive.ubuntu.com/ubuntu bionic-updates/main amd64 libruby2.5 amd64 2.5.1-1ubuntu1.6 [3,069 kB]\n",
            "Get:14 http://archive.ubuntu.com/ubuntu bionic-updates/main amd64 ruby2.5-doc all 2.5.1-1ubuntu1.6 [1,806 kB]\n",
            "Get:15 http://archive.ubuntu.com/ubuntu bionic/universe amd64 ri all 1:2.5.1 [4,496 B]\n",
            "Get:16 http://archive.ubuntu.com/ubuntu bionic-updates/main amd64 ruby2.5-dev amd64 2.5.1-1ubuntu1.6 [63.7 kB]\n",
            "Get:17 http://archive.ubuntu.com/ubuntu bionic/main amd64 ruby-dev amd64 1:2.5.1 [4,604 B]\n",
            "Get:18 http://archive.ubuntu.com/ubuntu bionic/universe amd64 ruby-full all 1:2.5.1 [2,716 B]\n",
            "Fetched 8,208 kB in 2s (4,101 kB/s)\n",
            "debconf: unable to initialize frontend: Dialog\n",
            "debconf: (No usable dialog-like program is installed, so the dialog based frontend cannot be used. at /usr/share/perl5/Debconf/FrontEnd/Dialog.pm line 76, <> line 18.)\n",
            "debconf: falling back to frontend: Readline\n",
            "debconf: unable to initialize frontend: Readline\n",
            "debconf: (This frontend requires a controlling tty.)\n",
            "debconf: falling back to frontend: Teletype\n",
            "dpkg-preconfigure: unable to re-open stdin: \n",
            "Selecting previously unselected package fonts-lato.\n",
            "(Reading database ... 135131 files and directories currently installed.)\n",
            "Preparing to unpack .../00-fonts-lato_2.0-2_all.deb ...\n",
            "Unpacking fonts-lato (2.0-2) ...\n",
            "Selecting previously unselected package libgmpxx4ldbl:amd64.\n",
            "Preparing to unpack .../01-libgmpxx4ldbl_2%3a6.1.2+dfsg-2_amd64.deb ...\n",
            "Unpacking libgmpxx4ldbl:amd64 (2:6.1.2+dfsg-2) ...\n",
            "Selecting previously unselected package libgmp-dev:amd64.\n",
            "Preparing to unpack .../02-libgmp-dev_2%3a6.1.2+dfsg-2_amd64.deb ...\n",
            "Unpacking libgmp-dev:amd64 (2:6.1.2+dfsg-2) ...\n",
            "Selecting previously unselected package rubygems-integration.\n",
            "Preparing to unpack .../03-rubygems-integration_1.11_all.deb ...\n",
            "Unpacking rubygems-integration (1.11) ...\n",
            "Selecting previously unselected package ruby2.5.\n",
            "Preparing to unpack .../04-ruby2.5_2.5.1-1ubuntu1.6_amd64.deb ...\n",
            "Unpacking ruby2.5 (2.5.1-1ubuntu1.6) ...\n",
            "Selecting previously unselected package ruby.\n",
            "Preparing to unpack .../05-ruby_1%3a2.5.1_amd64.deb ...\n",
            "Unpacking ruby (1:2.5.1) ...\n",
            "Selecting previously unselected package rake.\n",
            "Preparing to unpack .../06-rake_12.3.1-1_all.deb ...\n",
            "Unpacking rake (12.3.1-1) ...\n",
            "Selecting previously unselected package ruby-did-you-mean.\n",
            "Preparing to unpack .../07-ruby-did-you-mean_1.2.0-2_all.deb ...\n",
            "Unpacking ruby-did-you-mean (1.2.0-2) ...\n",
            "Selecting previously unselected package ruby-minitest.\n",
            "Preparing to unpack .../08-ruby-minitest_5.10.3-1_all.deb ...\n",
            "Unpacking ruby-minitest (5.10.3-1) ...\n",
            "Selecting previously unselected package ruby-net-telnet.\n",
            "Preparing to unpack .../09-ruby-net-telnet_0.1.1-2_all.deb ...\n",
            "Unpacking ruby-net-telnet (0.1.1-2) ...\n",
            "Selecting previously unselected package ruby-power-assert.\n",
            "Preparing to unpack .../10-ruby-power-assert_0.3.0-1_all.deb ...\n",
            "Unpacking ruby-power-assert (0.3.0-1) ...\n",
            "Selecting previously unselected package ruby-test-unit.\n",
            "Preparing to unpack .../11-ruby-test-unit_3.2.5-1_all.deb ...\n",
            "Unpacking ruby-test-unit (3.2.5-1) ...\n",
            "Selecting previously unselected package libruby2.5:amd64.\n",
            "Preparing to unpack .../12-libruby2.5_2.5.1-1ubuntu1.6_amd64.deb ...\n",
            "Unpacking libruby2.5:amd64 (2.5.1-1ubuntu1.6) ...\n",
            "Selecting previously unselected package ruby2.5-doc.\n",
            "Preparing to unpack .../13-ruby2.5-doc_2.5.1-1ubuntu1.6_all.deb ...\n",
            "Unpacking ruby2.5-doc (2.5.1-1ubuntu1.6) ...\n",
            "Selecting previously unselected package ri.\n",
            "Preparing to unpack .../14-ri_1%3a2.5.1_all.deb ...\n",
            "Unpacking ri (1:2.5.1) ...\n",
            "Selecting previously unselected package ruby2.5-dev:amd64.\n",
            "Preparing to unpack .../15-ruby2.5-dev_2.5.1-1ubuntu1.6_amd64.deb ...\n",
            "Unpacking ruby2.5-dev:amd64 (2.5.1-1ubuntu1.6) ...\n",
            "Selecting previously unselected package ruby-dev:amd64.\n",
            "Preparing to unpack .../16-ruby-dev_1%3a2.5.1_amd64.deb ...\n",
            "Unpacking ruby-dev:amd64 (1:2.5.1) ...\n",
            "Selecting previously unselected package ruby-full.\n",
            "Preparing to unpack .../17-ruby-full_1%3a2.5.1_all.deb ...\n",
            "Unpacking ruby-full (1:2.5.1) ...\n",
            "Setting up fonts-lato (2.0-2) ...\n",
            "Setting up ruby-did-you-mean (1.2.0-2) ...\n",
            "Setting up ruby-net-telnet (0.1.1-2) ...\n",
            "Setting up rubygems-integration (1.11) ...\n",
            "Setting up ruby2.5-doc (2.5.1-1ubuntu1.6) ...\n",
            "Setting up libgmpxx4ldbl:amd64 (2:6.1.2+dfsg-2) ...\n",
            "Setting up ruby-minitest (5.10.3-1) ...\n",
            "Setting up ruby-power-assert (0.3.0-1) ...\n",
            "Setting up libgmp-dev:amd64 (2:6.1.2+dfsg-2) ...\n",
            "Setting up ruby2.5 (2.5.1-1ubuntu1.6) ...\n",
            "Setting up ri (1:2.5.1) ...\n",
            "Setting up ruby (1:2.5.1) ...\n",
            "Setting up ruby-test-unit (3.2.5-1) ...\n",
            "Setting up rake (12.3.1-1) ...\n",
            "Setting up libruby2.5:amd64 (2.5.1-1ubuntu1.6) ...\n",
            "Setting up ruby2.5-dev:amd64 (2.5.1-1ubuntu1.6) ...\n",
            "Setting up ruby-dev:amd64 (1:2.5.1) ...\n",
            "Setting up ruby-full (1:2.5.1) ...\n",
            "Processing triggers for man-db (2.8.3-2ubuntu0.1) ...\n",
            "Processing triggers for fontconfig (2.12.6-0ubuntu2) ...\n",
            "Processing triggers for libc-bin (2.27-3ubuntu1) ...\n",
            "/sbin/ldconfig.real: /usr/local/lib/python3.6/dist-packages/ideep4py/lib/libmkldnn.so.0 is not a symbolic link\n",
            "\n"
          ],
          "name": "stdout"
        }
      ]
    },
    {
      "cell_type": "code",
      "metadata": {
        "colab_type": "code",
        "outputId": "6f33d63f-0b95-405b-a22a-3148851aa4ed",
        "id": "TILZLPVxKtO9",
        "colab": {
          "base_uri": "https://localhost:8080/",
          "height": 119
        }
      },
      "source": [
        "!gem install yaggo"
      ],
      "execution_count": 0,
      "outputs": [
        {
          "output_type": "stream",
          "text": [
            "Fetching: yaggo-1.5.10.gem\rFetching: yaggo-1.5.10.gem (  9%)\rFetching: yaggo-1.5.10.gem ( 21%)\rFetching: yaggo-1.5.10.gem ( 33%)\rFetching: yaggo-1.5.10.gem ( 45%)\rFetching: yaggo-1.5.10.gem ( 57%)\rFetching: yaggo-1.5.10.gem ( 69%)\rFetching: yaggo-1.5.10.gem ( 81%)\rFetching: yaggo-1.5.10.gem ( 93%)\rFetching: yaggo-1.5.10.gem (100%)\rFetching: yaggo-1.5.10.gem (100%)\n",
            "Successfully installed yaggo-1.5.10\n",
            "Parsing documentation for yaggo-1.5.10\n",
            "Installing ri documentation for yaggo-1.5.10\n",
            "Done installing documentation for yaggo after 0 seconds\n",
            "1 gem installed\n"
          ],
          "name": "stdout"
        }
      ]
    },
    {
      "cell_type": "code",
      "metadata": {
        "colab_type": "code",
        "outputId": "9119a745-6e23-4c41-a6d2-232feb314ae5",
        "id": "AuDef6ymKtO6",
        "colab": {
          "base_uri": "https://localhost:8080/",
          "height": 272
        }
      },
      "source": [
        "!autoreconf -i"
      ],
      "execution_count": 0,
      "outputs": [
        {
          "output_type": "stream",
          "text": [
            "libtoolize: putting auxiliary files in '.'.\n",
            "libtoolize: copying file './ltmain.sh'\n",
            "libtoolize: putting macros in AC_CONFIG_MACRO_DIRS, 'm4'.\n",
            "libtoolize: copying file 'm4/libtool.m4'\n",
            "libtoolize: copying file 'm4/ltoptions.m4'\n",
            "libtoolize: copying file 'm4/ltsugar.m4'\n",
            "libtoolize: copying file 'm4/ltversion.m4'\n",
            "libtoolize: copying file 'm4/lt~obsolete.m4'\n",
            "configure.ac:8: installing './compile'\n",
            "configure.ac:2: installing './config.guess'\n",
            "configure.ac:2: installing './config.sub'\n",
            "configure.ac:4: installing './install-sh'\n",
            "configure.ac:4: installing './missing'\n",
            "Makefile.am: installing './depcomp'\n",
            "parallel-tests: installing './test-driver'\n"
          ],
          "name": "stdout"
        }
      ]
    },
    {
      "cell_type": "code",
      "metadata": {
        "colab_type": "code",
        "outputId": "e00b127d-e95b-49c3-f59f-ee8e5043416d",
        "id": "kGdfdvziKtO3",
        "colab": {
          "base_uri": "https://localhost:8080/",
          "height": 1000
        }
      },
      "source": [
        "!./configure"
      ],
      "execution_count": 0,
      "outputs": [
        {
          "output_type": "stream",
          "text": [
            "checking build system type... x86_64-pc-linux-gnu\n",
            "checking host system type... x86_64-pc-linux-gnu\n",
            "checking for a BSD-compatible install... /usr/bin/install -c\n",
            "checking whether build environment is sane... yes\n",
            "checking for a thread-safe mkdir -p... /bin/mkdir -p\n",
            "checking for gawk... no\n",
            "checking for mawk... mawk\n",
            "checking whether make sets $(MAKE)... yes\n",
            "checking whether make supports nested variables... yes\n",
            "checking whether make supports nested variables... (cached) yes\n",
            "checking how to print strings... printf\n",
            "checking for style of include used by make... GNU\n",
            "checking for gcc... gcc\n",
            "checking whether the C compiler works... yes\n",
            "checking for C compiler default output file name... a.out\n",
            "checking for suffix of executables... \n",
            "checking whether we are cross compiling... no\n",
            "checking for suffix of object files... o\n",
            "checking whether we are using the GNU C compiler... yes\n",
            "checking whether gcc accepts -g... yes\n",
            "checking for gcc option to accept ISO C89... none needed\n",
            "checking whether gcc understands -c and -o together... yes\n",
            "checking dependency style of gcc... gcc3\n",
            "checking for a sed that does not truncate output... /bin/sed\n",
            "checking for grep that handles long lines and -e... /bin/grep\n",
            "checking for egrep... /bin/grep -E\n",
            "checking for fgrep... /bin/grep -F\n",
            "checking for ld used by gcc... /usr/bin/ld\n",
            "checking if the linker (/usr/bin/ld) is GNU ld... yes\n",
            "checking for BSD- or MS-compatible name lister (nm)... /usr/bin/nm -B\n",
            "checking the name lister (/usr/bin/nm -B) interface... BSD nm\n",
            "checking whether ln -s works... yes\n",
            "checking the maximum length of command line arguments... 1572864\n",
            "checking how to convert x86_64-pc-linux-gnu file names to x86_64-pc-linux-gnu format... func_convert_file_noop\n",
            "checking how to convert x86_64-pc-linux-gnu file names to toolchain format... func_convert_file_noop\n",
            "checking for /usr/bin/ld option to reload object files... -r\n",
            "checking for objdump... objdump\n",
            "checking how to recognize dependent libraries... pass_all\n",
            "checking for dlltool... no\n",
            "checking how to associate runtime and link libraries... printf %s\\n\n",
            "checking for ar... ar\n",
            "checking for archiver @FILE support... @\n",
            "checking for strip... strip\n",
            "checking for ranlib... ranlib\n",
            "checking command to parse /usr/bin/nm -B output from gcc object... ok\n",
            "checking for sysroot... no\n",
            "checking for a working dd... /bin/dd\n",
            "checking how to truncate binary pipes... /bin/dd bs=4096 count=1\n",
            "checking for mt... no\n",
            "checking if : is a manifest tool... no\n",
            "checking how to run the C preprocessor... gcc -E\n",
            "checking for ANSI C header files... yes\n",
            "checking for sys/types.h... yes\n",
            "checking for sys/stat.h... yes\n",
            "checking for stdlib.h... yes\n",
            "checking for string.h... yes\n",
            "checking for memory.h... yes\n",
            "checking for strings.h... yes\n",
            "checking for inttypes.h... yes\n",
            "checking for stdint.h... yes\n",
            "checking for unistd.h... yes\n",
            "checking for dlfcn.h... yes\n",
            "checking for objdir... .libs\n",
            "checking if gcc supports -fno-rtti -fno-exceptions... no\n",
            "checking for gcc option to produce PIC... -fPIC -DPIC\n",
            "checking if gcc PIC flag -fPIC -DPIC works... yes\n",
            "checking if gcc static flag -static works... yes\n",
            "checking if gcc supports -c -o file.o... yes\n",
            "checking if gcc supports -c -o file.o... (cached) yes\n",
            "checking whether the gcc linker (/usr/bin/ld -m elf_x86_64) supports shared libraries... yes\n",
            "checking whether -lc should be explicitly linked in... no\n",
            "checking dynamic linker characteristics... GNU/Linux ld.so\n",
            "checking how to hardcode library paths into programs... immediate\n",
            "checking whether stripping libraries is possible... yes\n",
            "checking if libtool supports shared libraries... yes\n",
            "checking whether to build shared libraries... yes\n",
            "checking whether to build static libraries... yes\n",
            "checking for ld used by gcc... /usr/bin/ld -m elf_x86_64\n",
            "checking if the linker (/usr/bin/ld -m elf_x86_64) is GNU ld... yes\n",
            "checking for shared library run path origin... done\n",
            "checking for pkg-config... /usr/bin/pkg-config\n",
            "checking pkg-config is at least version 0.9.0... yes\n",
            "checking for g++... g++\n",
            "checking whether we are using the GNU C++ compiler... yes\n",
            "checking whether g++ accepts -g... yes\n",
            "checking dependency style of g++... gcc3\n",
            "checking how to run the C++ preprocessor... g++ -E\n",
            "checking for ld used by g++... /usr/bin/ld -m elf_x86_64\n",
            "checking if the linker (/usr/bin/ld -m elf_x86_64) is GNU ld... yes\n",
            "checking whether the g++ linker (/usr/bin/ld -m elf_x86_64) supports shared libraries... yes\n",
            "checking for g++ option to produce PIC... -fPIC -DPIC\n",
            "checking if g++ PIC flag -fPIC -DPIC works... yes\n",
            "checking if g++ static flag -static works... yes\n",
            "checking if g++ supports -c -o file.o... yes\n",
            "checking if g++ supports -c -o file.o... (cached) yes\n",
            "checking whether the g++ linker (/usr/bin/ld -m elf_x86_64) supports shared libraries... yes\n",
            "checking dynamic linker characteristics... (cached) GNU/Linux ld.so\n",
            "checking how to hardcode library paths into programs... immediate\n",
            "checking for HTSLIB... no\n",
            "checking for samtools... no\n",
            "checking for unix2dos... no\n",
            "checking for md5sum... md5sum\n",
            "checking for yaggo... /usr/local/bin/yaggo\n",
            "checking for x86 cpuid  output... unknown\n",
            "checking for x86-AVX xgetbv  output... unknown\n",
            "checking for x86 cpuid 0x00000000 output... d:756e6547:6c65746e:49656e69\n",
            "checking for x86 cpuid 0x80000000 output... 80000008:0:0:0\n",
            "checking for x86 cpuid 0x00000001 output... 406f0:1020800:fefa3203:1f8bfbff\n",
            "checking for x86 cpuid 0x00000007 output... 0:1c2ffb:0:ac000400\n",
            "checking for x86 cpuid 0x80000001 output... 0:0:121:2c100800\n",
            "checking for x86-AVX xgetbv 0x00000000 output... 7:0\n",
            "checking whether RDRND is supported by the processor... yes\n",
            "checking whether RDRND is supported by the processor and OS... yes\n",
            "checking whether C++ compiler accepts -mrdrnd... yes\n",
            "checking whether BMI1 is supported by the processor... yes\n",
            "checking whether BMI1 is supported by the processor and OS... yes\n",
            "checking whether C++ compiler accepts -mbmi... yes\n",
            "checking whether BMI2 is supported by the processor... yes\n",
            "checking whether BMI2 is supported by the processor and OS... yes\n",
            "checking whether C++ compiler accepts -mbmi2... yes\n",
            "checking whether ADX is supported by the processor... yes\n",
            "checking whether ADX is supported by the processor and OS... yes\n",
            "checking whether C++ compiler accepts -madx... yes\n",
            "checking whether MPX is supported by the processor... no\n",
            "checking whether PREFETCHWT1 is supported by the processor... no\n",
            "checking whether ABM is supported by the processor... yes\n",
            "checking whether ABM is supported by the processor and OS... yes\n",
            "checking whether C++ compiler accepts -mabm... yes\n",
            "checking whether MMX is supported by the processor... yes\n",
            "checking whether MMX is supported by the processor and OS... yes\n",
            "checking whether C++ compiler accepts -mmmx... yes\n",
            "checking whether SSE is supported by the processor... yes\n",
            "checking whether SSE is supported by the processor and OS... yes\n",
            "checking whether C++ compiler accepts -msse... yes\n",
            "checking whether SSE2 is supported by the processor... yes\n",
            "checking whether SSE2 is supported by the processor and OS... yes\n",
            "checking whether C++ compiler accepts -msse2... yes\n",
            "checking whether SSE3 is supported by the processor... yes\n",
            "checking whether SSE3 is supported by the processor and OS... yes\n",
            "checking whether C++ compiler accepts -msse3... yes\n",
            "checking whether SSSE3 is supported by the processor... yes\n",
            "checking whether SSSE3 is supported by the processor and OS... yes\n",
            "checking whether C++ compiler accepts -mssse3... yes\n",
            "checking whether SSE4.1 is supported by the processor... yes\n",
            "checking whether SSE4.1 is supported by the processor and OS... yes\n",
            "checking whether C++ compiler accepts -msse4.1... yes\n",
            "checking whether SSE4.2 is supported by the processor... yes\n",
            "checking whether SSE4.2 is supported by the processor and OS... yes\n",
            "checking whether C++ compiler accepts -msse4.2... yes\n",
            "checking whether SSE4a is supported by the processor... no\n",
            "checking whether SHA is supported by the processor... no\n",
            "checking whether AES is supported by the processor... yes\n",
            "checking whether AES is supported by the processor and OS... yes\n",
            "checking whether C++ compiler accepts -maes... yes\n",
            "checking whether AVX is supported by the processor... yes\n",
            "checking whether AVX is supported by the processor and OS... yes\n",
            "checking whether C++ compiler accepts -mavx... yes\n",
            "checking whether FMA3 is supported by the processor... yes\n",
            "checking whether FMA3 is supported by the processor and OS... yes\n",
            "checking whether C++ compiler accepts -mfma... yes\n",
            "checking whether FMA4 is supported by the processor... no\n",
            "checking whether XOP is supported by the processor... no\n",
            "checking whether AVX2 is supported by the processor... yes\n",
            "checking whether AVX2 is supported by the processor and OS... yes\n",
            "checking whether C++ compiler accepts -mavx2... yes\n",
            "checking whether AVX512-F is supported by the processor... no\n",
            "checking whether AVX512-CD is supported by the processor... no\n",
            "checking whether AVX512-PF is supported by the processor... no\n",
            "checking whether AVX512-ER is supported by the processor... no\n",
            "checking whether AVX512-VL is supported by the processor... no\n",
            "checking whether AVX512-BW is supported by the processor... no\n",
            "checking whether AVX512-DQ is supported by the processor... no\n",
            "checking whether AVX512-IFMA is supported by the processor... no\n",
            "checking whether AVX512-VBMI is supported by the processor... no\n",
            "checking for __int128... yes\n",
            "checking for std::numeric_limits<__int128>... no\n",
            "checking for _NSGetExecutablePath... no\n",
            "checking for execinfo.h... yes\n",
            "checking for ext/stdio_filebuf.h... yes\n",
            "checking for sys/syscall.h... yes\n",
            "checking for siginfo_t.si_int... yes\n",
            "checking for posix_memalign... yes\n",
            "checking for aligned_alloc... yes\n",
            "checking that generated files are newer than configure... done\n",
            "configure: creating ./config.status\n",
            "config.status: creating Makefile\n",
            "config.status: creating compat.sh\n",
            "config.status: creating jellyfish-2.0.pc\n",
            "config.status: creating config.h\n",
            "config.status: executing depfiles commands\n",
            "config.status: executing libtool commands\n"
          ],
          "name": "stdout"
        }
      ]
    },
    {
      "cell_type": "code",
      "metadata": {
        "colab_type": "code",
        "outputId": "c6b67ed8-afa5-4595-e567-a173ee0d6964",
        "id": "M9x-uzkzKtOz",
        "colab": {
          "base_uri": "https://localhost:8080/",
          "height": 714
        }
      },
      "source": [
        "!make -j 4"
      ],
      "execution_count": 0,
      "outputs": [
        {
          "output_type": "stream",
          "text": [
            "  YAGGO    sub_commands/count_main_cmdline.hpp\n",
            "  YAGGO    sub_commands/info_main_cmdline.hpp\n",
            "  YAGGO    sub_commands/dump_main_cmdline.hpp\n",
            "  YAGGO    sub_commands/histo_main_cmdline.hpp\n",
            "  YAGGO    sub_commands/stats_main_cmdline.hpp\n",
            "  YAGGO    sub_commands/merge_main_cmdline.hpp\n",
            "  YAGGO    sub_commands/bc_main_cmdline.hpp\n",
            "  YAGGO    sub_commands/cite_main_cmdline.hpp\n",
            "  YAGGO    sub_commands/query_main_cmdline.hpp\n",
            "  YAGGO    sub_commands/mem_main_cmdline.hpp\n",
            "  YAGGO    jellyfish/generate_sequence_cmdline.hpp\n",
            "  YAGGO    jellyfish/fastq2sam_cmdline.hpp\n",
            "  YAGGO    unit_tests/test_main_cmdline.hpp\n",
            "make  all-am\n",
            "make[1]: Entering directory '/content/Jellyfish-master'\n",
            "  CXX      lib/rectangular_binary_matrix.lo\n",
            "  CXX      lib/mer_dna.lo\n",
            "  CXX      lib/storage.lo\n",
            "  CXX      lib/allocators_mmap.lo\n",
            "  CXX      lib/misc.lo\n",
            "  CXX      lib/int128.lo\n",
            "  CXX      lib/thread_exec.lo\n",
            "  CXX      lib/jsoncpp.lo\n",
            "  CXX      lib/time.lo\n",
            "  CXX      lib/generator_manager.lo\n",
            "  CXX      sub_commands/jellyfish.o\n",
            "  CXX      sub_commands/count_main.o\n",
            "  CXX      sub_commands/info_main.o\n",
            "  CXX      sub_commands/dump_main.o\n",
            "  CXX      sub_commands/histo_main.o\n",
            "  CXX      sub_commands/stats_main.o\n",
            "  CXX      sub_commands/merge_main.o\n",
            "  CXX      sub_commands/bc_main.o\n",
            "  CXX      sub_commands/query_main.o\n",
            "  CXX      sub_commands/cite_main.o\n",
            "  CXX      sub_commands/mem_main.o\n",
            "  CXX      jellyfish/merge_files.o\n",
            "  CXXLD    libjellyfish-2.0.la\n",
            "ar: `u' modifier ignored since `D' is the default (see `U')\n",
            "  CXXLD    bin/jellyfish\n",
            "make[1]: Leaving directory '/content/Jellyfish-master'\n"
          ],
          "name": "stdout"
        }
      ]
    },
    {
      "cell_type": "code",
      "metadata": {
        "colab_type": "code",
        "outputId": "6563e101-569e-4be9-a1ae-aea00b44567d",
        "id": "Nod2mXz_KtOw",
        "colab": {
          "base_uri": "https://localhost:8080/",
          "height": 768
        }
      },
      "source": [
        "!sudo make install"
      ],
      "execution_count": 0,
      "outputs": [
        {
          "output_type": "stream",
          "text": [
            "make  install-am\n",
            "make[1]: Entering directory '/content/Jellyfish-master'\n",
            "make[2]: Entering directory '/content/Jellyfish-master'\n",
            " /bin/mkdir -p '/usr/local/lib'\n",
            " /bin/bash ./libtool   --mode=install /usr/bin/install -c   libjellyfish-2.0.la '/usr/local/lib'\n",
            "libtool: install: /usr/bin/install -c .libs/libjellyfish-2.0.so.2.0.0 /usr/local/lib/libjellyfish-2.0.so.2.0.0\n",
            "libtool: install: (cd /usr/local/lib && { ln -s -f libjellyfish-2.0.so.2.0.0 libjellyfish-2.0.so.2 || { rm -f libjellyfish-2.0.so.2 && ln -s libjellyfish-2.0.so.2.0.0 libjellyfish-2.0.so.2; }; })\n",
            "libtool: install: (cd /usr/local/lib && { ln -s -f libjellyfish-2.0.so.2.0.0 libjellyfish-2.0.so || { rm -f libjellyfish-2.0.so && ln -s libjellyfish-2.0.so.2.0.0 libjellyfish-2.0.so; }; })\n",
            "libtool: install: /usr/bin/install -c .libs/libjellyfish-2.0.lai /usr/local/lib/libjellyfish-2.0.la\n",
            "libtool: install: /usr/bin/install -c .libs/libjellyfish-2.0.a /usr/local/lib/libjellyfish-2.0.a\n",
            "libtool: install: chmod 644 /usr/local/lib/libjellyfish-2.0.a\n",
            "libtool: install: ranlib /usr/local/lib/libjellyfish-2.0.a\n",
            "libtool: finish: PATH=\"/usr/local/sbin:/usr/local/bin:/usr/sbin:/usr/bin:/sbin:/bin:/snap/bin:/sbin\" ldconfig -n /usr/local/lib\n",
            "----------------------------------------------------------------------\n",
            "Libraries have been installed in:\n",
            "   /usr/local/lib\n",
            "\n",
            "If you ever happen to want to link against installed libraries\n",
            "in a given directory, LIBDIR, you must either use libtool, and\n",
            "specify the full pathname of the library, or use the '-LLIBDIR'\n",
            "flag during linking and do at least one of the following:\n",
            "   - add LIBDIR to the 'LD_LIBRARY_PATH' environment variable\n",
            "     during execution\n",
            "   - add LIBDIR to the 'LD_RUN_PATH' environment variable\n",
            "     during linking\n",
            "   - use the '-Wl,-rpath -Wl,LIBDIR' linker flag\n",
            "   - have your system administrator add LIBDIR to '/etc/ld.so.conf'\n",
            "\n",
            "See any operating system documentation about shared libraries for\n",
            "more information, such as the ld(1) and ld.so(8) manual pages.\n",
            "----------------------------------------------------------------------\n",
            " /bin/mkdir -p '/usr/local/bin'\n",
            "  /bin/bash ./libtool   --mode=install /usr/bin/install -c bin/jellyfish '/usr/local/bin'\n",
            "libtool: install: /usr/bin/install -c bin/.libs/jellyfish /usr/local/bin/jellyfish\n",
            " /bin/mkdir -p '/usr/local/include/jellyfish-2.3.0/jellyfish'\n",
            " /usr/bin/install -c -m 644 include/jellyfish/allocators_mmap.hpp include/jellyfish/backtrace.hpp include/jellyfish/atomic_gcc.hpp include/jellyfish/large_hash_array.hpp include/jellyfish/err.hpp include/jellyfish/misc.hpp include/jellyfish/offsets_key_value.hpp include/jellyfish/int128.hpp include/jellyfish/rectangular_binary_matrix.hpp include/jellyfish/mer_dna.hpp include/jellyfish/storage.hpp include/jellyfish/simple_circular_buffer.hpp include/jellyfish/circular_buffer.hpp include/jellyfish/atomic_field.hpp include/jellyfish/compare_and_swap.hpp include/jellyfish/divisor.hpp include/jellyfish/large_hash_iterator.hpp include/jellyfish/jellyfish.hpp include/jellyfish/thread_exec.hpp include/jellyfish/stream_iterator.hpp include/jellyfish/mer_overlap_sequence_parser.hpp include/jellyfish/whole_sequence_parser.hpp include/jellyfish/parser_common.hpp include/jellyfish/sam_format.hpp include/jellyfish/binary_dumper.hpp include/jellyfish/sorted_dumper.hpp include/jellyfish/text_dumper.hpp include/jellyfish/dumper.hpp include/jellyfish/time.hpp include/jellyfish/mer_heap.hpp include/jellyfish/token_ring.hpp include/jellyfish/locks_pthread.hpp include/jellyfish/file_header.hpp include/jellyfish/generic_file_header.hpp include/jellyfish/json.h include/jellyfish/hash_counter.hpp include/jellyfish/mapped_file.hpp include/jellyfish/mer_dna_bloom_counter.hpp include/jellyfish/bloom_common.hpp include/jellyfish/bloom_counter2.hpp '/usr/local/include/jellyfish-2.3.0/jellyfish'\n",
            " /usr/bin/install -c -m 644 include/jellyfish/bloom_filter.hpp include/jellyfish/cooperative_pool.hpp include/jellyfish/cooperative_pool2.hpp include/jellyfish/stream_manager.hpp include/jellyfish/generator_manager.hpp include/jellyfish/cpp_array.hpp include/jellyfish/mer_iterator.hpp include/jellyfish/atomic_bits_array.hpp include/jellyfish/stdio_filebuf.hpp include/jellyfish/mer_qual_iterator.hpp '/usr/local/include/jellyfish-2.3.0/jellyfish'\n",
            " /bin/mkdir -p '/usr/local/share/man/man1'\n",
            " /usr/bin/install -c -m 644 'doc/jellyfish.man' '/usr/local/share/man/man1/jellyfish.1'\n",
            " /bin/mkdir -p '/usr/local/lib/pkgconfig'\n",
            " /usr/bin/install -c -m 644 jellyfish-2.0.pc '/usr/local/lib/pkgconfig'\n",
            "make[2]: Leaving directory '/content/Jellyfish-master'\n",
            "make[1]: Leaving directory '/content/Jellyfish-master'\n"
          ],
          "name": "stdout"
        }
      ]
    },
    {
      "cell_type": "code",
      "metadata": {
        "colab_type": "code",
        "id": "rldu-dDkKtOt",
        "colab": {}
      },
      "source": [
        "!export LD_LIBRARY_PATH=$LD_LIBRARY_PATH:/jellyfish-2.2.6/.libs"
      ],
      "execution_count": 0,
      "outputs": []
    },
    {
      "cell_type": "code",
      "metadata": {
        "colab_type": "code",
        "id": "99ezaVwoKtOq",
        "colab": {}
      },
      "source": [
        "%cd examples/count_in_file"
      ],
      "execution_count": 0,
      "outputs": []
    },
    {
      "cell_type": "code",
      "metadata": {
        "colab_type": "code",
        "id": "9YCf4XDGKtOn",
        "colab": {}
      },
      "source": [
        "!make"
      ],
      "execution_count": 0,
      "outputs": []
    },
    {
      "cell_type": "code",
      "metadata": {
        "colab_type": "code",
        "outputId": "fb266f65-76c0-451c-85bc-15e2a62496da",
        "id": "mfDoHWgSKtOk",
        "colab": {
          "base_uri": "https://localhost:8080/",
          "height": 34
        }
      },
      "source": [
        "%cd .."
      ],
      "execution_count": 0,
      "outputs": [
        {
          "output_type": "stream",
          "text": [
            "/content/gdrive/My Drive/algorithm_project\n"
          ],
          "name": "stdout"
        }
      ]
    },
    {
      "cell_type": "markdown",
      "metadata": {
        "id": "zs4oLK9hLjBA",
        "colab_type": "text"
      },
      "source": [
        "## use jelly fish "
      ]
    },
    {
      "cell_type": "code",
      "metadata": {
        "colab_type": "code",
        "outputId": "a649c3cc-ac1a-44cb-98a1-fd9026a86caf",
        "id": "vzMU4kMqKtOh",
        "colab": {
          "base_uri": "https://localhost:8080/",
          "height": 187
        }
      },
      "source": [
        "## make .jf file of each .fna file by jellyfish\n",
        "import subprocess\n",
        "import os\n",
        "\n",
        "all_file_names=[]\n",
        "\n",
        "directory = 'genome2'\n",
        "for filename in os.listdir(directory):\n",
        "    if filename.endswith(\".fna\"):\n",
        "        print(filename)\n",
        "        subprocess.run([\"jellyfish\", \"count\",\"-m\",' 31','-s',' 100M','-t',' 10','-C',directory+'/'+filename,'-o',directory+'/'+filename+'.jf'])\n",
        "        all_file_names.append(directory+'/'+filename+'.jf ')"
      ],
      "execution_count": 0,
      "outputs": [
        {
          "output_type": "stream",
          "text": [
            "GCF_000009685.1_ASM968v1_genomic.fna\n",
            "GCF_000011225.1_ASM1122v1_genomic.fna\n",
            "GCF_000011445.1_ASM1144v1_genomic.fna\n",
            "GCF_000027325.1_ASM2732v1_genomic.fna\n",
            "GCF_000171355.1_ASM17135v1_genomic.fna\n",
            "GCF_000195875.1_ASM19587v1_genomic.fna\n",
            "GCF_000286675.1_ASM28667v1_genomic.fna\n",
            "GCF_000319675.2_ASM31967v2_genomic.fna\n",
            "GCF_000762305.1_ASM76230v1_genomic.fna\n",
            "GCF_002006385.1_ASM200638v1_genomic.fna\n"
          ],
          "name": "stdout"
        }
      ]
    },
    {
      "cell_type": "code",
      "metadata": {
        "colab_type": "code",
        "outputId": "706565ad-feec-4a64-8529-35b885f8ef77",
        "id": "0v8EeQlyKtOd",
        "colab": {
          "base_uri": "https://localhost:8080/",
          "height": 54
        }
      },
      "source": [
        "all_file_names"
      ],
      "execution_count": 0,
      "outputs": [
        {
          "output_type": "execute_result",
          "data": {
            "text/plain": [
              "'genome2/GCF_000009685.1_ASM968v1_genomic.fna.jf genome2/GCF_000011225.1_ASM1122v1_genomic.fna.jf genome2/GCF_000011445.1_ASM1144v1_genomic.fna.jf genome2/GCF_000027325.1_ASM2732v1_genomic.fna.jf genome2/GCF_000171355.1_ASM17135v1_genomic.fna.jf genome2/GCF_000195875.1_ASM19587v1_genomic.fna.jf genome2/GCF_000286675.1_ASM28667v1_genomic.fna.jf genome2/GCF_000319675.2_ASM31967v2_genomic.fna.jf genome2/GCF_000762305.1_ASM76230v1_genomic.fna.jf genome2/GCF_002006385.1_ASM200638v1_genomic.fna.jf '"
            ]
          },
          "metadata": {
            "tags": []
          },
          "execution_count": 102
        }
      ]
    },
    {
      "cell_type": "code",
      "metadata": {
        "colab_type": "code",
        "outputId": "1234862d-6fa4-48a7-f669-a66826b2e471",
        "id": "K9VVLLKFKtOb",
        "colab": {
          "base_uri": "https://localhost:8080/",
          "height": 34
        }
      },
      "source": [
        "## use all .jf file to count each kmer in each .fna file\n",
        "import os\n",
        "os.system('Jellyfish-master/examples/count_in_file/count_in_file '+all_file_names+'> genome/output_count_in_file.txt')"
      ],
      "execution_count": 0,
      "outputs": [
        {
          "output_type": "execute_result",
          "data": {
            "text/plain": [
              "0"
            ]
          },
          "metadata": {
            "tags": []
          },
          "execution_count": 103
        }
      ]
    },
    {
      "cell_type": "markdown",
      "metadata": {
        "id": "uGa7tD6IL3pa",
        "colab_type": "text"
      },
      "source": [
        "## make tree"
      ]
    },
    {
      "cell_type": "code",
      "metadata": {
        "colab_type": "code",
        "id": "PvQOG-HfKtOX",
        "colab": {}
      },
      "source": [
        "class Node: \n",
        "    def __init__(self, key,taxID): \n",
        "        self.key =  key \n",
        "        self.left = None\n",
        "        self.right = None\n",
        "        self.parent = None\n",
        "        self.taxID = taxID\n",
        "        \n",
        "    def set_right(self,right):\n",
        "        self.right = right\n",
        "        self.right.parent = self\n",
        "        \n",
        "    def set_left(self,left):\n",
        "        self.left = left\n",
        "        self.left.parent = self\n",
        "        \n",
        "\n",
        "def find_path(node):\n",
        "    \n",
        "    path = [node]\n",
        "    \n",
        "    while(node.parent != None):\n",
        "        path.append(node.parent)\n",
        "        node = node.parent\n",
        "    \n",
        "    path.reverse()\n",
        "    return path\n",
        "\n",
        "\n",
        "def LCA(nodes): \n",
        "    \n",
        "    paths = []\n",
        "    \n",
        "    for node in nodes:\n",
        "        paths.append(find_path(node))\n",
        "    i=0\n",
        "    while True:\n",
        "        check = paths[0][i]\n",
        "        flag = False\n",
        "        flag2= False\n",
        "        for path in paths:\n",
        "            if path[i]!=check:\n",
        "                flag = True\n",
        "            if i==len(path)-1:\n",
        "                flag2=True\n",
        "                \n",
        "        if flag:\n",
        "            break\n",
        "        if flag2:\n",
        "            i=i+1\n",
        "            break\n",
        "        i=i+1\n",
        "        \n",
        "        \n",
        "    return paths[0][i-1]\n",
        "  \n",
        "    \n",
        "nodes = []\n",
        "nodes.append(None)\n",
        "\n",
        "nodes.append(Node(1,'1488'))\n",
        "nodes.append(Node(2,'1485'))\n",
        "nodes.append(Node(3,'1488'))\n",
        "nodes.append(Node(4,'1485'))\n",
        "nodes.append(Node(5,'1513'))\n",
        "nodes.append(Node(6,'1502'))\n",
        "nodes.append(Node(7,'2092'))\n",
        "nodes.append(Node(8,'4401'))\n",
        "nodes.append(Node(9,'2092'))\n",
        "nodes.append(Node(10,'2107'))\n",
        "nodes.append(Node(11,'2092'))\n",
        "nodes.append(Node(12,'2092'))\n",
        "nodes.append(Node(13,'2093'))\n",
        "nodes.append(Node(14,'28227'))\n",
        "nodes.append(Node(15,'2093'))\n",
        "nodes.append(Node(16,'2096'))\n",
        "nodes.append(Node(17,'2093'))\n",
        "nodes.append(Node(18,'2104'))\n",
        "nodes.append(Node(19,'2097'))\n",
        "    \n",
        "nodes[1].set_right(nodes[7])\n",
        "nodes[1].set_left(nodes[2])\n",
        "nodes[2].set_right(nodes[4])\n",
        "nodes[2].set_left(nodes[3])\n",
        "nodes[4].set_right(nodes[5])\n",
        "nodes[4].set_left(nodes[6])\n",
        "nodes[7].set_right(nodes[8])\n",
        "nodes[7].set_left(nodes[9])\n",
        "nodes[9].set_right(nodes[10])\n",
        "nodes[9].set_left(nodes[11])\n",
        "nodes[11].set_right(nodes[12])\n",
        "nodes[11].set_left(nodes[13])\n",
        "nodes[13].set_right(nodes[14])\n",
        "nodes[13].set_left(nodes[15])\n",
        "nodes[15].set_right(nodes[16])\n",
        "nodes[15].set_left(nodes[17])\n",
        "nodes[17].set_right(nodes[18])\n",
        "nodes[17].set_left(nodes[19])"
      ],
      "execution_count": 0,
      "outputs": []
    },
    {
      "cell_type": "code",
      "metadata": {
        "colab_type": "code",
        "id": "9xENyTURKtOV",
        "colab": {}
      },
      "source": [
        "a = pd.read_csv('genome2/output_count_in_file.txt',sep=' ',header=0,names=['kmer',6,14,8,19,12,10,16,18,5,3])"
      ],
      "execution_count": 0,
      "outputs": []
    },
    {
      "cell_type": "code",
      "metadata": {
        "colab_type": "code",
        "outputId": "b6cc730d-35e4-45b2-a0d1-76094f5af4c8",
        "id": "-DWtXcZJKtOS",
        "colab": {
          "base_uri": "https://localhost:8080/",
          "height": 139
        }
      },
      "source": [
        "!pip install biopython"
      ],
      "execution_count": 0,
      "outputs": [
        {
          "output_type": "stream",
          "text": [
            "Collecting biopython\n",
            "\u001b[?25l  Downloading https://files.pythonhosted.org/packages/83/3d/e0c8a993dbea1136be90c31345aefc5babdd5046cd52f81c18fc3fdad865/biopython-1.76-cp36-cp36m-manylinux1_x86_64.whl (2.3MB)\n",
            "\u001b[K     |████████████████████████████████| 2.3MB 4.8MB/s \n",
            "\u001b[?25hRequirement already satisfied: numpy in /usr/local/lib/python3.6/dist-packages (from biopython) (1.17.5)\n",
            "Installing collected packages: biopython\n",
            "Successfully installed biopython-1.76\n"
          ],
          "name": "stdout"
        }
      ]
    },
    {
      "cell_type": "markdown",
      "metadata": {
        "id": "XEvSFc0IMEdr",
        "colab_type": "text"
      },
      "source": [
        "## claculate minimzers of kmers and make index"
      ]
    },
    {
      "cell_type": "code",
      "metadata": {
        "colab_type": "code",
        "id": "oLD9fb3tKtOM",
        "colab": {}
      },
      "source": [
        "from Bio.Seq import Seq\n",
        "import math\n",
        "\n",
        "mapping = {'A':0 , 'C':1 , 'G':2 ,'T':3}\n",
        "\n",
        "def code_string(seq):\n",
        "    code = 0\n",
        "    for i in range(len(seq)):\n",
        "        code = code + mapping[seq[i]]*(4**i)\n",
        "    return code\n",
        "\n",
        "\n",
        "def shift(Mmer):\n",
        "    code = code_string(Mmer)\n",
        "    return code ^ 40068662825\n",
        "    \n",
        "def minimizer_with_shift(seq):\n",
        "    seq = Seq(seq)\n",
        "    reverse =  seq.reverse_complement()\n",
        "    min = math.inf\n",
        "    for i in range(len(seq)-14):\n",
        "        p = shift(seq[i:i+15])\n",
        "        pr = shift(reverse[i:i+15])\n",
        "        if p < min:\n",
        "            min = p \n",
        "        if pr < min:\n",
        "            min = pr \n",
        "    return str(min)"
      ],
      "execution_count": 0,
      "outputs": []
    },
    {
      "cell_type": "code",
      "metadata": {
        "colab_type": "code",
        "outputId": "93dad3a6-c7dc-496d-b04c-d331a418bcd8",
        "id": "OFkbIXV5KtOI",
        "colab": {}
      },
      "source": [
        "minimizers = {}\n",
        "for i in range(a.shape[0]):\n",
        "    kmer = a.iloc[i,0]\n",
        "    mini = minimizer_with_shift(kmer)\n",
        "    l = [nodes[j] for j in a.columns[1:] if a.iloc[i,:][j] != 0]\n",
        "    if  mini in minimizers:\n",
        "        minimizers[mini][kmer] = LCA(l).key\n",
        "    else:\n",
        "        minimizers[mini] = {kmer : LCA(l).key}"
      ],
      "execution_count": 0,
      "outputs": [
        {
          "output_type": "execute_result",
          "data": {
            "text/plain": [
              "1735601"
            ]
          },
          "metadata": {
            "tags": []
          },
          "execution_count": 51
        }
      ]
    },
    {
      "cell_type": "markdown",
      "metadata": {
        "id": "-EUYuN8vUapT",
        "colab_type": "text"
      },
      "source": [
        "# read query and use index\n"
      ]
    },
    {
      "cell_type": "code",
      "metadata": {
        "colab_type": "code",
        "id": "toGS61JTKtOF",
        "colab": {}
      },
      "source": [
        "import pickle\n",
        "pickle_in = open(\"index_4.pkl\",\"rb\")\n",
        "minimizers = pickle.load(pickle_in)"
      ],
      "execution_count": 0,
      "outputs": []
    },
    {
      "cell_type": "code",
      "metadata": {
        "colab_type": "code",
        "id": "R-WsW7XaKtOA",
        "colab": {}
      },
      "source": [
        "from Bio import SeqIO\n",
        "records2 = list(SeqIO.parse(\"query.fastq\", \"fastq\"))"
      ],
      "execution_count": 0,
      "outputs": []
    },
    {
      "cell_type": "code",
      "metadata": {
        "colab_type": "code",
        "id": "sTA8l4w5KtN3",
        "colab": {}
      },
      "source": [
        "leafs = [6,14,8,19,12,10,16,18,5,3]"
      ],
      "execution_count": 0,
      "outputs": []
    },
    {
      "cell_type": "code",
      "metadata": {
        "id": "4T3-W4GLcB7z",
        "colab_type": "code",
        "colab": {}
      },
      "source": [
        "nodes_reads = []\n",
        "\n",
        "for i in range(20):\n",
        "  nodes_reads.append([])"
      ],
      "execution_count": 0,
      "outputs": []
    },
    {
      "cell_type": "code",
      "metadata": {
        "colab_type": "code",
        "outputId": "8450d049-0af7-49c3-9d22-339b6e96b42b",
        "id": "Cai7OhpEKtNt",
        "colab": {
          "base_uri": "https://localhost:8080/",
          "height": 867
        }
      },
      "source": [
        "for j in records2:\n",
        "    seq = str(j.seq)\n",
        "    #make minimizers\n",
        "    tx_ids = []\n",
        "    for i in range(len(seq)-15):\n",
        "        kmer = seq[i:i+31]\n",
        "        mini = minimizer_with_shift(kmer)\n",
        "        if mini in minimizers:\n",
        "            if kmer in minimizers[mini]:\n",
        "                tx_id = minimizers[mini][kmer]\n",
        "                tx_ids.append(nodes[tx_id])\n",
        "    scores = []\n",
        "    for i in leafs:\n",
        "        score = 0\n",
        "        path = find_path(nodes[i])\n",
        "        for node in path:\n",
        "            for tx_id in tx_ids:\n",
        "                if node == tx_id:\n",
        "                    score = score +1\n",
        "        scores.append(score)\n",
        "    Z = [x for _,x in sorted(zip(scores,leafs),reverse=True)]\n",
        "    maxs = []\n",
        "    maxi = scores[leafs.index(Z[0])]\n",
        "    for i in Z:\n",
        "        if scores[leafs.index(i)] < maxi:\n",
        "            break\n",
        "        maxs.append(nodes[i])\n",
        "    nodes_reads[LCA(maxs).key].append(j.id)\n",
        "    print(LCA(maxs).taxID)"
      ],
      "execution_count": 191,
      "outputs": [
        {
          "output_type": "stream",
          "text": [
            "1513\n",
            "1513\n",
            "1513\n",
            "1513\n",
            "1513\n",
            "1513\n",
            "1513\n",
            "1513\n",
            "1513\n",
            "1513\n",
            "1513\n",
            "1513\n",
            "1513\n",
            "1513\n",
            "1513\n",
            "1513\n",
            "1513\n",
            "1513\n",
            "1513\n",
            "1513\n",
            "1513\n",
            "1513\n",
            "1513\n",
            "1513\n",
            "1513\n",
            "1513\n",
            "1513\n",
            "1513\n",
            "1513\n",
            "1513\n",
            "1513\n",
            "1513\n",
            "1513\n",
            "1513\n",
            "1513\n",
            "1513\n",
            "1513\n",
            "1513\n",
            "1513\n",
            "1513\n",
            "1513\n",
            "1513\n",
            "1513\n",
            "1513\n",
            "1513\n",
            "1513\n",
            "1513\n",
            "1513\n",
            "1513\n",
            "1513\n"
          ],
          "name": "stdout"
        }
      ]
    },
    {
      "cell_type": "code",
      "metadata": {
        "id": "EeZUlWHHprnt",
        "colab_type": "code",
        "colab": {
          "base_uri": "https://localhost:8080/",
          "height": 1000
        },
        "outputId": "9eb7b995-37aa-4443-e17d-4c0aaaea959c"
      },
      "source": [
        "for i in range(1,20):\n",
        "  print('node '+str(i)+' with tax ID '+nodes[i].taxID+' has '+str(len(nodes_reads[i]))+' reads and its reads are: ')\n",
        "  for j in nodes_reads[i]:\n",
        "    print(j)"
      ],
      "execution_count": 192,
      "outputs": [
        {
          "output_type": "stream",
          "text": [
            "node 1 with tax ID 1488 has 0 reads and its reads are: \n",
            "node 2 with tax ID 1485 has 0 reads and its reads are: \n",
            "node 3 with tax ID 1488 has 20 reads and its reads are: \n",
            "NZ_LZYX01000001.1\n",
            "NZ_LZYX01000002.1\n",
            "NZ_LZYX01000003.1\n",
            "NZ_LZYX01000004.1\n",
            "NZ_LZYX01000005.1\n",
            "NZ_LZYX01000006.1\n",
            "NZ_LZYX01000007.1\n",
            "NZ_LZYX01000008.1\n",
            "NZ_LZYX01000009.1\n",
            "NZ_LZYX01000010.1\n",
            "NZ_LZYX01000011.1\n",
            "NZ_LZYX01000012.1\n",
            "NZ_LZYX01000013.1\n",
            "NZ_LZYX01000014.1\n",
            "NZ_LZYX01000015.1\n",
            "NZ_LZYX01000016.1\n",
            "NZ_LZYX01000017.1\n",
            "NZ_LZYX01000018.1\n",
            "NZ_LZYX01000019.1\n",
            "NZ_LZYX01000020.1\n",
            "node 4 with tax ID 1485 has 0 reads and its reads are: \n",
            "node 5 with tax ID 1513 has 60 reads and its reads are: \n",
            "NZ_JRGJ01000001.1\n",
            "NZ_JRGJ01000002.1\n",
            "NZ_JRGJ01000003.1\n",
            "NZ_JRGJ01000004.1\n",
            "NZ_JRGJ01000005.1\n",
            "NZ_JRGJ01000006.1\n",
            "NZ_JRGJ01000007.1\n",
            "NZ_JRGJ01000008.1\n",
            "NZ_JRGJ01000009.1\n",
            "NZ_JRGJ01000010.1\n",
            "NZ_JRGJ01000001.1\n",
            "NZ_JRGJ01000002.1\n",
            "NZ_JRGJ01000003.1\n",
            "NZ_JRGJ01000004.1\n",
            "NZ_JRGJ01000005.1\n",
            "NZ_JRGJ01000006.1\n",
            "NZ_JRGJ01000007.1\n",
            "NZ_JRGJ01000008.1\n",
            "NZ_JRGJ01000009.1\n",
            "NZ_JRGJ01000010.1\n",
            "NZ_JRGJ01000011.1\n",
            "NZ_JRGJ01000012.1\n",
            "NZ_JRGJ01000013.1\n",
            "NZ_JRGJ01000014.1\n",
            "NZ_JRGJ01000015.1\n",
            "NZ_JRGJ01000016.1\n",
            "NZ_JRGJ01000017.1\n",
            "NZ_JRGJ01000018.1\n",
            "NZ_JRGJ01000019.1\n",
            "NZ_JRGJ01000020.1\n",
            "NZ_JRGJ01000021.1\n",
            "NZ_JRGJ01000022.1\n",
            "NZ_JRGJ01000023.1\n",
            "NZ_JRGJ01000024.1\n",
            "NZ_JRGJ01000025.1\n",
            "NZ_JRGJ01000026.1\n",
            "NZ_JRGJ01000027.1\n",
            "NZ_JRGJ01000028.1\n",
            "NZ_JRGJ01000029.1\n",
            "NZ_JRGJ01000030.1\n",
            "NZ_JRGJ01000031.1\n",
            "NZ_JRGJ01000032.1\n",
            "NZ_JRGJ01000033.1\n",
            "NZ_JRGJ01000034.1\n",
            "NZ_JRGJ01000035.1\n",
            "NZ_JRGJ01000036.1\n",
            "NZ_JRGJ01000037.1\n",
            "NZ_JRGJ01000038.1\n",
            "NZ_JRGJ01000039.1\n",
            "NZ_JRGJ01000040.1\n",
            "NZ_JRGJ01000041.1\n",
            "NZ_JRGJ01000042.1\n",
            "NZ_JRGJ01000043.1\n",
            "NZ_JRGJ01000044.1\n",
            "NZ_JRGJ01000045.1\n",
            "NZ_JRGJ01000046.1\n",
            "NZ_JRGJ01000047.1\n",
            "NZ_JRGJ01000048.1\n",
            "NZ_JRGJ01000049.1\n",
            "NZ_JRGJ01000050.1\n",
            "node 6 with tax ID 1502 has 0 reads and its reads are: \n",
            "node 7 with tax ID 2092 has 0 reads and its reads are: \n",
            "node 8 with tax ID 4401 has 0 reads and its reads are: \n",
            "node 9 with tax ID 2092 has 0 reads and its reads are: \n",
            "node 10 with tax ID 2107 has 0 reads and its reads are: \n",
            "node 11 with tax ID 2092 has 0 reads and its reads are: \n",
            "node 12 with tax ID 2092 has 0 reads and its reads are: \n",
            "node 13 with tax ID 2093 has 0 reads and its reads are: \n",
            "node 14 with tax ID 28227 has 0 reads and its reads are: \n",
            "node 15 with tax ID 2093 has 0 reads and its reads are: \n",
            "node 16 with tax ID 2096 has 0 reads and its reads are: \n",
            "node 17 with tax ID 2093 has 0 reads and its reads are: \n",
            "node 18 with tax ID 2104 has 0 reads and its reads are: \n",
            "node 19 with tax ID 2097 has 0 reads and its reads are: \n"
          ],
          "name": "stdout"
        }
      ]
    },
    {
      "cell_type": "code",
      "metadata": {
        "id": "l9eqRz87pDBt",
        "colab_type": "code",
        "colab": {}
      },
      "source": [
        ""
      ],
      "execution_count": 0,
      "outputs": []
    }
  ]
}